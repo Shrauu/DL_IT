{
 "cells": [
  {
   "cell_type": "code",
   "execution_count": 3,
   "metadata": {},
   "outputs": [],
   "source": [
    "import tensorflow as tf\n",
    "from tensorflow import keras"
   ]
  },
  {
   "cell_type": "code",
   "execution_count": 4,
   "metadata": {
    "id": "V51q50EbF-T9"
   },
   "outputs": [],
   "source": [
    "import matplotlib.pyplot as plt\n",
    "import seaborn as sns\n",
    "import matplotlib as mpl\n",
    "import matplotlib.pylab as pylab\n",
    "import numpy as np\n",
    "%matplotlib inline\n",
    "import re"
   ]
  },
  {
   "cell_type": "markdown",
   "metadata": {
    "id": "Umz26cUEiglD"
   },
   "source": [
    "#### Taking random sentences as data"
   ]
  },
  {
   "cell_type": "code",
   "execution_count": 5,
   "metadata": {
    "id": "wBUwYdBJElVz"
   },
   "outputs": [],
   "source": [
    "sentences = \"\"\"We are about to study the idea of a computational process.\n",
    "Computational processes are abstract beings that inhabit computers.\n",
    "As they evolve, processes manipulate other abstract things called data.\n",
    "The evolution of a process is directed by a pattern of rules\n",
    "called a program. People create programs to direct processes. In effect,\n",
    "we conjure the spirits of the computer with our spells.\"\"\""
   ]
  },
  {
   "cell_type": "markdown",
   "metadata": {
    "id": "xtUeXHS1iglE"
   },
   "source": [
    "#### a. Data preparation\n",
    "#### Tokenization\n"
   ]
  },
  {
   "cell_type": "code",
   "execution_count": 6,
   "metadata": {
    "colab": {
     "base_uri": "https://localhost:8080/"
    },
    "id": "celNk9LmEvm8",
    "outputId": "4e2143b6-92dc-452f-f468-7c9e6238e287"
   },
   "outputs": [],
   "source": [
    "# remove special characters\n",
    "sentences = re.sub('[^A-Za-z0-9]+', ' ', sentences)\n",
    "# remove 1 letter words\n",
    "sentences = re.sub(r'(?:^| )\\w(?:$| )', ' ', sentences).strip()\n",
    "# lower all characters\n",
    "sentences = sentences.lower()\n",
    "#Vocabulary\n",
    "words = sentences.split()\n",
    "vocab = set(words)\n",
    "vocab_size = len(vocab)\n",
    "embed_dim = 10\n",
    "context_size = 2"
   ]
  },
  {
   "cell_type": "markdown",
   "metadata": {
    "id": "RYNJlgahiglF"
   },
   "source": [
    "#### b. Generate training data\n",
    "#### Generating (context word, target/label word) pairs"
   ]
  },
  {
   "cell_type": "code",
   "execution_count": 7,
   "metadata": {
    "id": "AAxNYDanInQC"
   },
   "outputs": [
    {
     "name": "stdout",
     "output_type": "stream",
     "text": [
      "[(['we', 'are', 'to', 'study'], 'about'), (['are', 'about', 'study', 'the'], 'to'), (['about', 'to', 'the', 'idea'], 'study'), (['to', 'study', 'idea', 'of'], 'the'), (['study', 'the', 'of', 'computational'], 'idea')]\n"
     ]
    }
   ],
   "source": [
    "#Implementation\n",
    "word_to_ix = {word: i for i, word in enumerate(vocab)}\n",
    "ix_to_word = {i: word for i, word in enumerate(vocab)}\n",
    "\n",
    "#Data Bags\n",
    "# data - [(context), target]\n",
    "data = []\n",
    "for i in range(2, len(words) - 2):\n",
    " context = [words[i - 2], words[i - 1], words[i + 1], words[i + 2]]\n",
    " target = words[i]\n",
    " data.append((context, target))\n",
    "print(data[:5])\n"
   ]
  },
  {
   "cell_type": "markdown",
   "metadata": {
    "id": "5UoWnkwhiglG"
   },
   "source": [
    "#### c. Train model\n",
    "#### Model building"
   ]
  },
  {
   "cell_type": "code",
   "execution_count": 8,
   "metadata": {
    "colab": {
     "base_uri": "https://localhost:8080/"
    },
    "id": "Rb5dNmoZKZBv",
    "outputId": "b859c07e-6989-420d-b169-8aa0b93ff367"
   },
   "outputs": [],
   "source": [
    "#Embeedings \n",
    "embeddings = np.random.random_sample((vocab_size, embed_dim))\n",
    "\n",
    "\n",
    "#Linear model\n",
    "def linear(m, theta):\n",
    " w = theta\n",
    " return m.dot(w)\n",
    "#Log softmax + NLLloss = Cross Entropy\n",
    "def log_softmax(x):\n",
    " e_x = np.exp(x - np.max(x))\n",
    " return np.log(e_x / e_x.sum())\n",
    "def NLLLoss(logs, targets):\n",
    " out = logs[range(len(targets)), targets]\n",
    " return -out.sum()/len(out)\n",
    "def log_softmax_crossentropy_with_logits(logits,target):\n",
    " out = np.zeros_like(logits)\n",
    " out[np.arange(len(logits)),target] = 1\n",
    " softmax = np.exp(logits) / np.exp(logits).sum(axis=-1,keepdims=True) \n",
    " return (- out + softmax) / logits.shape[0]\n",
    "\n",
    "\n"
   ]
  },
  {
   "cell_type": "code",
   "execution_count": 9,
   "metadata": {
    "colab": {
     "base_uri": "https://localhost:8080/"
    },
    "id": "xs12C3MDK1q4",
    "outputId": "fe8783b3-0ee1-4286-be40-6713afa14f9c"
   },
   "outputs": [],
   "source": [
    "#Forward Function\n",
    "def forward(context_idxs, theta):\n",
    " m = embeddings[context_idxs].reshape(1, -1)\n",
    " n = linear(m, theta)\n",
    " o = log_softmax(n)\n",
    " return m, n, o\n"
   ]
  },
  {
   "cell_type": "code",
   "execution_count": 10,
   "metadata": {
    "colab": {
     "base_uri": "https://localhost:8080/",
     "height": 253
    },
    "id": "TZ3_QGKVK6Tj",
    "outputId": "cd9d167a-85a3-4cc9-eccb-faf997526122"
   },
   "outputs": [],
   "source": [
    "#Backward Function\n",
    "def backward(preds, theta, target_idxs):\n",
    " m, n, o = preds\n",
    " dlog = log_softmax_crossentropy_with_logits(n, target_idxs)\n",
    " dw = m.T.dot(dlog)\n",
    " return dw"
   ]
  },
  {
   "cell_type": "markdown",
   "metadata": {
    "id": "PfxMBM3giglI"
   },
   "source": [
    "#### d. Output"
   ]
  },
  {
   "cell_type": "code",
   "execution_count": 11,
   "metadata": {
    "colab": {
     "base_uri": "https://localhost:8080/"
    },
    "id": "UFs2IAn_LAYS",
    "outputId": "87ae1249-6a80-484f-b4a2-4d5f20734db7"
   },
   "outputs": [],
   "source": [
    "#Optimize function\n",
    "def optimize(theta, grad, lr=0.03):\n",
    " theta -= grad * lr\n",
    " return theta\n",
    "#Training \n",
    "#Genrate training data\n",
    "theta = np.random.uniform(-1, 1, (2 * context_size * embed_dim, vocab_size))\n",
    "epoch_losses = {}\n",
    "for epoch in range(80):\n",
    " losses = []\n",
    " for context, target in data:\n",
    "     context_idxs = np.array([word_to_ix[w] for w in context])\n",
    "     preds = forward(context_idxs, theta)\n",
    "     target_idxs = np.array([word_to_ix[target]])\n",
    "     loss = NLLLoss(preds[-1], target_idxs)\n",
    "     losses.append(loss)\n",
    "     grad = backward(preds, theta, target_idxs)\n",
    "     theta = optimize(theta, grad, lr=0.03)\n",
    "     epoch_losses[epoch] = losses"
   ]
  },
  {
   "cell_type": "code",
   "execution_count": 12,
   "metadata": {},
   "outputs": [
    {
     "data": {
      "text/plain": [
       "Text(0, 0.5, 'Losses')"
      ]
     },
     "execution_count": 12,
     "metadata": {},
     "output_type": "execute_result"
    },
    {
     "data": {
      "image/png": "[encoded data removed]",
      "text/plain": [
       "<Figure size 432x288 with 1 Axes>"
      ]
     },
     "metadata": {
      "needs_background": "light"
     },
     "output_type": "display_data"
    }
   ],
   "source": [
    "#Analyze\n",
    "#Plot loss/epoch\n",
    "ix = np.arange(0,80)\n",
    "fig = plt.figure()\n",
    "fig.suptitle('Epoch/Losses', fontsize=20)\n",
    "plt.plot(ix,[epoch_losses[i][0] for i in ix])\n",
    "plt.xlabel('Epochs', fontsize=12)\n",
    "plt.ylabel('Losses', fontsize=12)"
   ]
  },
  {
   "cell_type": "code",
   "execution_count": 13,
   "metadata": {},
   "outputs": [
    {
     "data": {
      "text/plain": [
       "'about'"
      ]
     },
     "execution_count": 13,
     "metadata": {},
     "output_type": "execute_result"
    }
   ],
   "source": [
    "#Predict function\n",
    "def predict(words):\n",
    " context_idxs = np.array([word_to_ix[w] for w in words])\n",
    " preds = forward(context_idxs, theta)\n",
    " word = ix_to_word[np.argmax(preds[-1])]\n",
    " return word\n",
    "# (['we', 'are', 'to', 'study'], 'about')\n",
    "predict(['we', 'are', 'to', 'study'])\n",
    "\n"
   ]
  },
  {
   "cell_type": "code",
   "execution_count": 14,
   "metadata": {},
   "outputs": [
    {
     "data": {
      "text/plain": [
       "1.0"
      ]
     },
     "execution_count": 14,
     "metadata": {},
     "output_type": "execute_result"
    }
   ],
   "source": [
    "#Accuracy \n",
    "def accuracy():\n",
    " wrong = 0\n",
    " for context, target in data:\n",
    "     if(predict(context) != target):\n",
    "        wrong += 1\n",
    " return (1 - (wrong / len(data)))\n",
    "accuracy()\n"
   ]
  },
  {
   "cell_type": "code",
   "execution_count": null,
   "metadata": {},
   "outputs": [],
   "source": []
  }
 ],
 "metadata": {
  "colab": {
   "provenance": []
  },
  "kernelspec": {
   "display_name": "Python 3 (ipykernel)",
   "language": "python",
   "name": "python3"
  },
  "language_info": {
   "codemirror_mode": {
    "name": "ipython",
    "version": 3
   },
   "file_extension": ".py",
   "mimetype": "text/x-python",
   "name": "python",
   "nbconvert_exporter": "python",
   "pygments_lexer": "ipython3",
   "version": "3.9.7"
  }
 },
 "nbformat": 4,
 "nbformat_minor": 1
}
