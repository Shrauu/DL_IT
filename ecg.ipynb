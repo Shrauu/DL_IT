{
 "cells": [
  {
   "cell_type": "code",
   "execution_count": 1,
   "id": "1b235d45",
   "metadata": {},
   "outputs": [],
   "source": [
    "import numpy as np\n",
    "import pandas as pd\n",
    "import tensorflow as tf\n",
    "from sklearn.model_selection import train_test_split\n",
    "from sklearn.preprocessing import StandardScaler\n",
    "from sklearn.metrics import confusion_matrix, classification_report\n",
    "from tensorflow.keras import layers, models\n",
    "import matplotlib.pyplot as plt"
   ]
  },
  {
   "cell_type": "code",
   "execution_count": null,
   "id": "86ad439d",
   "metadata": {},
   "outputs": [],
   "source": [
    "ecg_dataset = pd.read_csv(\"Datasets/ecg-csv/ecg.csv\")"
   ]
  },
  {
   "cell_type": "code",
   "execution_count": null,
   "id": "84feb3c1",
   "metadata": {},
   "outputs": [],
   "source": [
    "# Preprocess the data\n",
    "scaler = StandardScaler()\n",
    "X = scaler.fit_transform(ecg_dataset.values)\n",
    "y = X  # Autoencoder input and output are the same\n",
    "\n",
    "X_train, X_test, _, _ = train_test_split(X, X, test_size=0.2, random_state=42)"
   ]
  },
  {
   "cell_type": "code",
   "execution_count": null,
   "id": "7e7b516e",
   "metadata": {},
   "outputs": [],
   "source": [
    "# Build and train the Autoencoder model\n",
    "input_dim = X_train.shape[1]"
   ]
  },
  {
   "cell_type": "code",
   "execution_count": null,
   "id": "15a5118b",
   "metadata": {},
   "outputs": [],
   "source": [
    "encoder = models.Sequential([\n",
    "    layers.Input(shape=(input_dim,)),\n",
    "    layers.Dense(32, activation='relu'),\n",
    "    layers.Dense(16, activation='relu'),\n",
    "    layers.Dense(8, activation='relu')\n",
    "])"
   ]
  },
  {
   "cell_type": "code",
   "execution_count": null,
   "id": "49af4f06",
   "metadata": {},
   "outputs": [],
   "source": [
    "decoder = models.Sequential([\n",
    "    layers.Input(shape=(8,)),\n",
    "    layers.Dense(16, activation='relu'),\n",
    "    layers.Dense(32, activation='relu'),\n",
    "    layers.Dense(input_dim, activation='linear')  # Use linear activation for reconstruction\n",
    "])"
   ]
  },
  {
   "cell_type": "code",
   "execution_count": null,
   "id": "b8f20c59",
   "metadata": {},
   "outputs": [],
   "source": [
    "\n",
    "autoencoder = models.Sequential([\n",
    "    encoder,\n",
    "    decoder\n",
    "])\n",
    "autoencoder.compile(optimizer='adam', loss='mean_squared_error')\n",
    "autoencoder.fit(X_train, X_train, epochs=100, batch_size=32, shuffle=True)"
   ]
  },
  {
   "cell_type": "code",
   "execution_count": null,
   "id": "885d2f51",
   "metadata": {},
   "outputs": [],
   "source": [
    "# Detect anomalies\n",
    "y_pred = autoencoder.predict(X_test)\n",
    "mse = np.mean(np.power(X_test - y_pred, 2), axis=1)"
   ]
  },
  {
   "cell_type": "code",
   "execution_count": null,
   "id": "e6cab3c9",
   "metadata": {},
   "outputs": [],
   "source": [
    "# Define a threshold for anomaly detection\n",
    "threshold = np.percentile(mse, 95)  # Adjust the percentile as needed"
   ]
  },
  {
   "cell_type": "code",
   "execution_count": null,
   "id": "f4df7594",
   "metadata": {},
   "outputs": [],
   "source": [
    "# Predict anomalies\n",
    "anomalies = mse > threshold"
   ]
  },
  {
   "cell_type": "code",
   "execution_count": null,
   "id": "c152f4d1",
   "metadata": {},
   "outputs": [],
   "source": [
    "# Calculate the number of anomalies\n",
    "num_anomalies = np.sum(anomalies)\n",
    "print(f\"Number of Anomalies: {num_anomalies}\")"
   ]
  },
  {
   "cell_type": "code",
   "execution_count": null,
   "id": "317b3fe6",
   "metadata": {},
   "outputs": [],
   "source": [
    "plt.figure(figsize=(12, 6))\n",
    "plt.plot(X_test[0], label='Original ECG')\n",
    "plt.plot(y_pred[0], label='Reconstructed ECG')\n",
    "plt.xlabel('Time')\n",
    "plt.ylabel('Amplitude')\n",
    "plt.legend()\n",
    "plt.title('Normal ECG')\n",
    "plt.show()"
   ]
  }
 ],
 "metadata": {
  "kernelspec": {
   "display_name": "Python 3 (ipykernel)",
   "language": "python",
   "name": "python3"
  },
  "language_info": {
   "codemirror_mode": {
    "name": "ipython",
    "version": 3
   },
   "file_extension": ".py",
   "mimetype": "text/x-python",
   "name": "python",
   "nbconvert_exporter": "python",
   "pygments_lexer": "ipython3",
   "version": "3.9.7"
  }
 },
 "nbformat": 4,
 "nbformat_minor": 5
}
